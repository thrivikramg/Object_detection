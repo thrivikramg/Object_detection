{
 "cells": [
  {
   "cell_type": "code",
   "execution_count": 9,
   "id": "069b79d1-5c6a-4b55-8432-ab9582f56f52",
   "metadata": {},
   "outputs": [
    {
     "name": "stdout",
     "output_type": "stream",
     "text": [
      "Tensorflow\\workspace\\images\\collectedimages\n",
      "collecting images for   thumbsup\n",
      "collecting images for  0\n",
      "collecting images for  1\n",
      "collecting images for  2\n",
      "collecting images for  3\n",
      "collecting images for  4\n",
      "collecting images for   thumbsdown\n",
      "collecting images for  0\n",
      "collecting images for  1\n",
      "collecting images for  2\n",
      "collecting images for  3\n",
      "collecting images for  4\n"
     ]
    }
   ],
   "source": [
    "import uuid\n",
    "import os\n",
    "import time\n",
    "import cv2\n",
    "labels=[\"Degradable\",\"Non-biodegradable\"]\n",
    "number_images=5\n",
    "\n",
    "IMAGES_PATH = os.path.join('Tensorflow','workspace','images','collectedimages')\n",
    "print(IMAGES_PATH)\n",
    "\n",
    "#create folder of collected images\n",
    "if not os.path.exists(IMAGES_PATH):\n",
    "  if os.name == \"nt\": #windows\n",
    "     !mkdir {IMAGES_PATH}\n",
    "  if os.name == \"posix\": #linux,mac\n",
    "     !mkdir -p {IMAGES_PATH} \n",
    "for label in labels: \n",
    "   path = os.path.join(IMAGES_PATH,label)\n",
    "   if not os.path.exists(path):\n",
    "      !mkdir {path}\n",
    "\n",
    "#Capture images for labelling\n",
    "for label in labels:\n",
    "   cam = cv2.VideoCapture(0) #connects to webcam\n",
    "   print(\"collecting images for  \",format(label))\n",
    "   time.sleep(5)\n",
    "   for imgnum in range(number_images):\n",
    "      print(\"collecting images for \",format(imgnum))\n",
    "      ret , frame= cam.read()\n",
    "      imgname = os.path.join(IMAGES_PATH,label,label+'.'+'{}.jpg'.format(str(uuid.uuid1())))\n",
    "      cv2.imwrite(imgname,frame)\n",
    "      cv2.imshow('frame',frame)\n",
    "      \n",
    "      #to stop at any point\n",
    "      if cv2.waitKey(1) &0xFF == ord('x'):\n",
    "        break\n",
    "cam.release()\n",
    "cv2.destroyAllWindows()\n"
   ]
  },
  {
   "cell_type": "code",
   "execution_count": 8,
   "id": "fa1a4938",
   "metadata": {},
   "outputs": [],
   "source": [
    "\n",
    "#start labelling\n",
    "LABELIMG_PATH = os.path.join('Tensorflow', 'labelimg')\n",
    "if not os.path.exists(LABELIMG_PATH):\n",
    "    !mkdir {LABELIMG_PATH}\n",
    "    #cloning labelimg\n",
    "    !git clone https://github.com/tzutalin/labelImg {LABELIMG_PATH}\n",
    "    \n",
    "    #installing labelimg\n",
    "    if os.name =='nt':\n",
    "       !cd {LABELIMG_PATH} && pyrcc5 -o libs/resources.py resources.qrc\n",
    "    if os.name == 'posix':\n",
    "       !cd {LABELIMG_PATH} && make qt5py3\n",
    "!cd {LABELIMG_PATH} && python labelImg.py\n",
    "    "
   ]
  },
  {
   "cell_type": "code",
   "execution_count": null,
   "id": "05852472",
   "metadata": {},
   "outputs": [],
   "source": []
  }
 ],
 "metadata": {
  "kernelspec": {
   "display_name": "environment",
   "language": "python",
   "name": "environment"
  },
  "language_info": {
   "codemirror_mode": {
    "name": "ipython",
    "version": 3
   },
   "file_extension": ".py",
   "mimetype": "text/x-python",
   "name": "python",
   "nbconvert_exporter": "python",
   "pygments_lexer": "ipython3",
   "version": "3.11.0"
  }
 },
 "nbformat": 4,
 "nbformat_minor": 5
}
